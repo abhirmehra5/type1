{
 "cells": [
  {
   "cell_type": "code",
   "execution_count": 9,
   "outputs": [],
   "source": [
    "import dash_bootstrap_components as dbc\n",
    "import pandas as pd\n",
    "from dash import  dcc, Input, Output, html,ctx\n",
    "import dash\n",
    "import plotly.express as px\n",
    "import plotly.graph_objects as go\n",
    "import yfinance as yahooFinance\n",
    "import datetime\n",
    "import yfinance as yf\n",
    "from datetime import datetime"
   ],
   "metadata": {
    "collapsed": false,
    "pycharm": {
     "name": "#%%\n"
    }
   }
  },
  {
   "cell_type": "code",
   "execution_count": 10,
   "outputs": [],
   "source": [
    "output=pd.read_csv('output.csv',index_col=0)"
   ],
   "metadata": {
    "collapsed": false,
    "pycharm": {
     "name": "#%%\n"
    }
   }
  },
  {
   "cell_type": "code",
   "execution_count": 11,
   "outputs": [],
   "source": [
    "def convert_datetime(dt):\n",
    "    return datetime.strftime(dt,'%Y-%m-%d')\n",
    "pricedata=pd.DataFrame(columns=['Date','Adj Close','Ticker'])\n",
    "tickers = ['AMG','BMY','KO','HON','NEE','OMC','PHM','SLG','WMB']"
   ],
   "metadata": {
    "collapsed": false,
    "pycharm": {
     "name": "#%%\n"
    }
   }
  },
  {
   "cell_type": "code",
   "execution_count": 12,
   "outputs": [
    {
     "name": "stdout",
     "output_type": "stream",
     "text": [
      "[*********************100%***********************]  1 of 1 completed\n",
      "[*********************100%***********************]  1 of 1 completed\n",
      "[*********************100%***********************]  1 of 1 completed\n",
      "[*********************100%***********************]  1 of 1 completed\n",
      "[*********************100%***********************]  1 of 1 completed\n",
      "[*********************100%***********************]  1 of 1 completed\n",
      "[*********************100%***********************]  1 of 1 completed\n",
      "[*********************100%***********************]  1 of 1 completed\n",
      "[*********************100%***********************]  1 of 1 completed\n"
     ]
    }
   ],
   "source": [
    "for i in tickers:\n",
    "    new = yf.download(i, start='2014-01-01', end='2023-01-30')\n",
    "    new=new['Adj Close']\n",
    "    new=new.reset_index()\n",
    "    new['Date']= new['Date'].apply(convert_datetime)\n",
    "    new['Ticker']=i\n",
    "    pricedata = pd.concat([pricedata,new])"
   ],
   "metadata": {
    "collapsed": false,
    "pycharm": {
     "name": "#%%\n"
    }
   }
  },
  {
   "cell_type": "code",
   "execution_count": 13,
   "outputs": [],
   "source": [
    "output=pd.read_csv('output.csv',index_col=0)"
   ],
   "metadata": {
    "collapsed": false,
    "pycharm": {
     "name": "#%%\n"
    }
   }
  },
  {
   "cell_type": "code",
   "execution_count": 14,
   "outputs": [],
   "source": [
    "output['T+D']=output['Timestamp']+output['Ticker']\n",
    "pricedata['T+D']=pricedata['Date']+pricedata['Ticker']\n",
    "pricedata=pricedata.drop(columns=['Date','Ticker'])"
   ],
   "metadata": {
    "collapsed": false,
    "pycharm": {
     "name": "#%%\n"
    }
   }
  },
  {
   "cell_type": "code",
   "execution_count": 15,
   "outputs": [],
   "source": [
    "output=output.merge(pricedata,left_on=\"T+D\",right_on=\"T+D\",how=\"left\")\n",
    "output.drop(columns=['T+D'],inplace=True)"
   ],
   "metadata": {
    "collapsed": false,
    "pycharm": {
     "name": "#%%\n"
    }
   }
  },
  {
   "cell_type": "code",
   "execution_count": 16,
   "outputs": [
    {
     "data": {
      "text/plain": "       Unnamed: 0   Timestamp Ticker          ISIN  \\\n0           39589  2013-04-01    AMG  US0082521081   \n1           39590  2013-04-02    AMG  US0082521081   \n2           39591  2013-04-03    AMG  US0082521081   \n3           39592  2013-04-04    AMG  US0082521081   \n4           39593  2013-04-05    AMG  US0082521081   \n...           ...         ...    ...           ...   \n32386     2184588  2023-02-02    WMB  US9694571004   \n32387     2184589  2023-02-03    WMB  US9694571004   \n32388     2184590  2023-02-04    WMB  US9694571004   \n32389     2184591  2023-02-05    WMB  US9694571004   \n32390     2184592  2023-02-06    WMB  US9694571004   \n\n                        Company_Name GICS Sector  SDG_1  SDG_2     SDG_3  \\\n0      affiliated managers group inc  Financials    NaN    NaN       NaN   \n1      affiliated managers group inc  Financials    NaN    NaN       NaN   \n2      affiliated managers group inc  Financials    NaN    NaN       NaN   \n3      affiliated managers group inc  Financials    NaN    NaN       NaN   \n4      affiliated managers group inc  Financials    NaN    NaN       NaN   \n...                              ...         ...    ...    ...       ...   \n32386         williams companies inc      Energy    NaN    NaN  0.565371   \n32387         williams companies inc      Energy    NaN    NaN  0.629811   \n32388         williams companies inc      Energy    NaN    NaN       NaN   \n32389         williams companies inc      Energy    NaN    NaN       NaN   \n32390         williams companies inc      Energy    NaN    NaN       NaN   \n\n          SDG_4  ...  SDG_10_News_Volume  SDG_11_News_Volume  \\\n0           NaN  ...                 NaN                 NaN   \n1           NaN  ...                 NaN                 NaN   \n2           NaN  ...                 NaN                 NaN   \n3           NaN  ...                 NaN                 NaN   \n4           NaN  ...                 NaN                 NaN   \n...         ...  ...                 ...                 ...   \n32386  0.565371  ...                 7.0                 4.0   \n32387  0.629811  ...                 1.0                 1.0   \n32388       NaN  ...                 NaN                 NaN   \n32389       NaN  ...                 NaN                 NaN   \n32390       NaN  ...                 NaN                 NaN   \n\n       SDG_12_News_Volume  SDG_13_News_Volume  SDG_14_News_Volume  \\\n0                     NaN                 NaN                 NaN   \n1                     NaN                 NaN                 NaN   \n2                     NaN                 NaN                 NaN   \n3                     NaN                 NaN                 NaN   \n4                     NaN                 NaN                 NaN   \n...                   ...                 ...                 ...   \n32386                 6.0                 1.0                 NaN   \n32387                 NaN                 1.0                 NaN   \n32388                 NaN                 NaN                 NaN   \n32389                 NaN                 NaN                 NaN   \n32390                 NaN                 NaN                 NaN   \n\n       SDG_15_News_Volume  SDG_16_News_Volume  SDG_17_News_Volume  \\\n0                     NaN                 NaN                 NaN   \n1                     NaN                 NaN                 NaN   \n2                     NaN                 NaN                 NaN   \n3                     NaN                 NaN                 NaN   \n4                     NaN                 NaN                 NaN   \n...                   ...                 ...                 ...   \n32386                 1.0                 4.0                 NaN   \n32387                 1.0                 1.0                 NaN   \n32388                 NaN                 NaN                 NaN   \n32389                 NaN                 NaN                 NaN   \n32390                 NaN                 NaN                 NaN   \n\n       SDG_News_Volume_Mean  Adj Close  \n0                       NaN        NaN  \n1                       NaN        NaN  \n2                       NaN        NaN  \n3                       NaN        NaN  \n4                       NaN        NaN  \n...                     ...        ...  \n32386                  3.25        NaN  \n32387                  1.00        NaN  \n32388                   NaN        NaN  \n32389                   NaN        NaN  \n32390                   NaN        NaN  \n\n[32391 rows x 97 columns]",
      "text/html": "<div>\n<style scoped>\n    .dataframe tbody tr th:only-of-type {\n        vertical-align: middle;\n    }\n\n    .dataframe tbody tr th {\n        vertical-align: top;\n    }\n\n    .dataframe thead th {\n        text-align: right;\n    }\n</style>\n<table border=\"1\" class=\"dataframe\">\n  <thead>\n    <tr style=\"text-align: right;\">\n      <th></th>\n      <th>Unnamed: 0</th>\n      <th>Timestamp</th>\n      <th>Ticker</th>\n      <th>ISIN</th>\n      <th>Company_Name</th>\n      <th>GICS Sector</th>\n      <th>SDG_1</th>\n      <th>SDG_2</th>\n      <th>SDG_3</th>\n      <th>SDG_4</th>\n      <th>...</th>\n      <th>SDG_10_News_Volume</th>\n      <th>SDG_11_News_Volume</th>\n      <th>SDG_12_News_Volume</th>\n      <th>SDG_13_News_Volume</th>\n      <th>SDG_14_News_Volume</th>\n      <th>SDG_15_News_Volume</th>\n      <th>SDG_16_News_Volume</th>\n      <th>SDG_17_News_Volume</th>\n      <th>SDG_News_Volume_Mean</th>\n      <th>Adj Close</th>\n    </tr>\n  </thead>\n  <tbody>\n    <tr>\n      <th>0</th>\n      <td>39589</td>\n      <td>2013-04-01</td>\n      <td>AMG</td>\n      <td>US0082521081</td>\n      <td>affiliated managers group inc</td>\n      <td>Financials</td>\n      <td>NaN</td>\n      <td>NaN</td>\n      <td>NaN</td>\n      <td>NaN</td>\n      <td>...</td>\n      <td>NaN</td>\n      <td>NaN</td>\n      <td>NaN</td>\n      <td>NaN</td>\n      <td>NaN</td>\n      <td>NaN</td>\n      <td>NaN</td>\n      <td>NaN</td>\n      <td>NaN</td>\n      <td>NaN</td>\n    </tr>\n    <tr>\n      <th>1</th>\n      <td>39590</td>\n      <td>2013-04-02</td>\n      <td>AMG</td>\n      <td>US0082521081</td>\n      <td>affiliated managers group inc</td>\n      <td>Financials</td>\n      <td>NaN</td>\n      <td>NaN</td>\n      <td>NaN</td>\n      <td>NaN</td>\n      <td>...</td>\n      <td>NaN</td>\n      <td>NaN</td>\n      <td>NaN</td>\n      <td>NaN</td>\n      <td>NaN</td>\n      <td>NaN</td>\n      <td>NaN</td>\n      <td>NaN</td>\n      <td>NaN</td>\n      <td>NaN</td>\n    </tr>\n    <tr>\n      <th>2</th>\n      <td>39591</td>\n      <td>2013-04-03</td>\n      <td>AMG</td>\n      <td>US0082521081</td>\n      <td>affiliated managers group inc</td>\n      <td>Financials</td>\n      <td>NaN</td>\n      <td>NaN</td>\n      <td>NaN</td>\n      <td>NaN</td>\n      <td>...</td>\n      <td>NaN</td>\n      <td>NaN</td>\n      <td>NaN</td>\n      <td>NaN</td>\n      <td>NaN</td>\n      <td>NaN</td>\n      <td>NaN</td>\n      <td>NaN</td>\n      <td>NaN</td>\n      <td>NaN</td>\n    </tr>\n    <tr>\n      <th>3</th>\n      <td>39592</td>\n      <td>2013-04-04</td>\n      <td>AMG</td>\n      <td>US0082521081</td>\n      <td>affiliated managers group inc</td>\n      <td>Financials</td>\n      <td>NaN</td>\n      <td>NaN</td>\n      <td>NaN</td>\n      <td>NaN</td>\n      <td>...</td>\n      <td>NaN</td>\n      <td>NaN</td>\n      <td>NaN</td>\n      <td>NaN</td>\n      <td>NaN</td>\n      <td>NaN</td>\n      <td>NaN</td>\n      <td>NaN</td>\n      <td>NaN</td>\n      <td>NaN</td>\n    </tr>\n    <tr>\n      <th>4</th>\n      <td>39593</td>\n      <td>2013-04-05</td>\n      <td>AMG</td>\n      <td>US0082521081</td>\n      <td>affiliated managers group inc</td>\n      <td>Financials</td>\n      <td>NaN</td>\n      <td>NaN</td>\n      <td>NaN</td>\n      <td>NaN</td>\n      <td>...</td>\n      <td>NaN</td>\n      <td>NaN</td>\n      <td>NaN</td>\n      <td>NaN</td>\n      <td>NaN</td>\n      <td>NaN</td>\n      <td>NaN</td>\n      <td>NaN</td>\n      <td>NaN</td>\n      <td>NaN</td>\n    </tr>\n    <tr>\n      <th>...</th>\n      <td>...</td>\n      <td>...</td>\n      <td>...</td>\n      <td>...</td>\n      <td>...</td>\n      <td>...</td>\n      <td>...</td>\n      <td>...</td>\n      <td>...</td>\n      <td>...</td>\n      <td>...</td>\n      <td>...</td>\n      <td>...</td>\n      <td>...</td>\n      <td>...</td>\n      <td>...</td>\n      <td>...</td>\n      <td>...</td>\n      <td>...</td>\n      <td>...</td>\n      <td>...</td>\n    </tr>\n    <tr>\n      <th>32386</th>\n      <td>2184588</td>\n      <td>2023-02-02</td>\n      <td>WMB</td>\n      <td>US9694571004</td>\n      <td>williams companies inc</td>\n      <td>Energy</td>\n      <td>NaN</td>\n      <td>NaN</td>\n      <td>0.565371</td>\n      <td>0.565371</td>\n      <td>...</td>\n      <td>7.0</td>\n      <td>4.0</td>\n      <td>6.0</td>\n      <td>1.0</td>\n      <td>NaN</td>\n      <td>1.0</td>\n      <td>4.0</td>\n      <td>NaN</td>\n      <td>3.25</td>\n      <td>NaN</td>\n    </tr>\n    <tr>\n      <th>32387</th>\n      <td>2184589</td>\n      <td>2023-02-03</td>\n      <td>WMB</td>\n      <td>US9694571004</td>\n      <td>williams companies inc</td>\n      <td>Energy</td>\n      <td>NaN</td>\n      <td>NaN</td>\n      <td>0.629811</td>\n      <td>0.629811</td>\n      <td>...</td>\n      <td>1.0</td>\n      <td>1.0</td>\n      <td>NaN</td>\n      <td>1.0</td>\n      <td>NaN</td>\n      <td>1.0</td>\n      <td>1.0</td>\n      <td>NaN</td>\n      <td>1.00</td>\n      <td>NaN</td>\n    </tr>\n    <tr>\n      <th>32388</th>\n      <td>2184590</td>\n      <td>2023-02-04</td>\n      <td>WMB</td>\n      <td>US9694571004</td>\n      <td>williams companies inc</td>\n      <td>Energy</td>\n      <td>NaN</td>\n      <td>NaN</td>\n      <td>NaN</td>\n      <td>NaN</td>\n      <td>...</td>\n      <td>NaN</td>\n      <td>NaN</td>\n      <td>NaN</td>\n      <td>NaN</td>\n      <td>NaN</td>\n      <td>NaN</td>\n      <td>NaN</td>\n      <td>NaN</td>\n      <td>NaN</td>\n      <td>NaN</td>\n    </tr>\n    <tr>\n      <th>32389</th>\n      <td>2184591</td>\n      <td>2023-02-05</td>\n      <td>WMB</td>\n      <td>US9694571004</td>\n      <td>williams companies inc</td>\n      <td>Energy</td>\n      <td>NaN</td>\n      <td>NaN</td>\n      <td>NaN</td>\n      <td>NaN</td>\n      <td>...</td>\n      <td>NaN</td>\n      <td>NaN</td>\n      <td>NaN</td>\n      <td>NaN</td>\n      <td>NaN</td>\n      <td>NaN</td>\n      <td>NaN</td>\n      <td>NaN</td>\n      <td>NaN</td>\n      <td>NaN</td>\n    </tr>\n    <tr>\n      <th>32390</th>\n      <td>2184592</td>\n      <td>2023-02-06</td>\n      <td>WMB</td>\n      <td>US9694571004</td>\n      <td>williams companies inc</td>\n      <td>Energy</td>\n      <td>NaN</td>\n      <td>NaN</td>\n      <td>NaN</td>\n      <td>NaN</td>\n      <td>...</td>\n      <td>NaN</td>\n      <td>NaN</td>\n      <td>NaN</td>\n      <td>NaN</td>\n      <td>NaN</td>\n      <td>NaN</td>\n      <td>NaN</td>\n      <td>NaN</td>\n      <td>NaN</td>\n      <td>NaN</td>\n    </tr>\n  </tbody>\n</table>\n<p>32391 rows × 97 columns</p>\n</div>"
     },
     "execution_count": 16,
     "metadata": {},
     "output_type": "execute_result"
    }
   ],
   "source": [
    "output"
   ],
   "metadata": {
    "collapsed": false,
    "pycharm": {
     "name": "#%%\n"
    }
   }
  },
  {
   "cell_type": "code",
   "execution_count": 16,
   "outputs": [],
   "source": [],
   "metadata": {
    "collapsed": false,
    "pycharm": {
     "name": "#%%\n"
    }
   }
  }
 ],
 "metadata": {
  "kernelspec": {
   "display_name": "Python 3",
   "language": "python",
   "name": "python3"
  },
  "language_info": {
   "codemirror_mode": {
    "name": "ipython",
    "version": 2
   },
   "file_extension": ".py",
   "mimetype": "text/x-python",
   "name": "python",
   "nbconvert_exporter": "python",
   "pygments_lexer": "ipython2",
   "version": "2.7.6"
  }
 },
 "nbformat": 4,
 "nbformat_minor": 0
}